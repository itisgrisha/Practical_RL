{
 "cells": [
  {
   "cell_type": "code",
   "execution_count": 1,
   "metadata": {},
   "outputs": [
    {
     "name": "stdout",
     "output_type": "stream",
     "text": [
      "Starting virtual X frame buffer: Xvfb.\n",
      "env: DISPLAY=: 1\n"
     ]
    }
   ],
   "source": [
    "import numpy as np\n",
    "import matplotlib.pyplot as plt\n",
    "from IPython import display\n",
    "%matplotlib inline\n",
    "# In google collab, uncomment this:\n",
    "# !wget https://bit.ly/2FMJP5K -O setup.py && bash setup.py\n",
    "\n",
    "# This code creates a virtual display to draw game images on.\n",
    "# If you are running locally, just ignore it\n",
    "import os\n",
    "if type(os.environ.get(\"DISPLAY\")) is not str or len(os.environ.get(\"DISPLAY\")) == 0:\n",
    "    !bash ../xvfb start\n",
    "    %env DISPLAY = : 1"
   ]
  },
  {
   "cell_type": "markdown",
   "metadata": {},
   "source": [
    "### OpenAI Gym\n",
    "\n",
    "We're gonna spend several next weeks learning algorithms that solve decision processes. We are then in need of some interesting decision problems to test our algorithms.\n",
    "\n",
    "That's where OpenAI gym comes into play. It's a python library that wraps many classical decision problems including robot control, videogames and board games.\n",
    "\n",
    "So here's how it works:"
   ]
  },
  {
   "cell_type": "code",
   "execution_count": 2,
   "metadata": {},
   "outputs": [
    {
     "data": {
      "image/png": "[encoded data removed]",
      "text/plain": [
       "<Figure size 432x288 with 1 Axes>"
      ]
     },
     "metadata": {
      "needs_background": "light"
     },
     "output_type": "display_data"
    },
    {
     "name": "stdout",
     "output_type": "stream",
     "text": [
      "Observation space: Box(2,)\n",
      "Action space: Discrete(3)\n"
     ]
    }
   ],
   "source": [
    "import gym\n",
    "env = gym.make(\"MountainCar-v0\")\n",
    "\n",
    "plt.imshow(env.render('rgb_array'))\n",
    "plt.show()\n",
    "print(\"Observation space:\", env.observation_space)\n",
    "print(\"Action space:\", env.action_space)"
   ]
  },
  {
   "cell_type": "markdown",
   "metadata": {},
   "source": [
    "Note: if you're running this on your local machine, you'll see a window pop up with the image above. Don't close it, just alt-tab away."
   ]
  },
  {
   "cell_type": "markdown",
   "metadata": {},
   "source": [
    "### Gym interface\n",
    "\n",
    "The three main methods of an environment are\n",
    "* __reset()__ - reset environment to initial state, _return first observation_\n",
    "* __render()__ - show current environment state (a more colorful version :) )\n",
    "* __step(a)__ - commit action __a__ and return (new observation, reward, is done, info)\n",
    " * _new observation_ - an observation right after commiting the action __a__\n",
    " * _reward_ - a number representing your reward for commiting action __a__\n",
    " * _is done_ - True if the MDP has just finished, False if still in progress\n",
    " * _info_ - some auxilary stuff about what just happened. Ignore it ~~for now~~."
   ]
  },
  {
   "cell_type": "code",
   "execution_count": 3,
   "metadata": {
    "scrolled": true
   },
   "outputs": [
    {
     "name": "stdout",
     "output_type": "stream",
     "text": [
      "initial observation code: [-0.43798889  0.        ]\n"
     ]
    }
   ],
   "source": [
    "obs0 = env.reset()\n",
    "print(\"initial observation code:\", obs0)\n",
    "\n",
    "# Note: in MountainCar, observation is just two numbers: car position and velocity"
   ]
  },
  {
   "cell_type": "code",
   "execution_count": 4,
   "metadata": {},
   "outputs": [
    {
     "name": "stdout",
     "output_type": "stream",
     "text": [
      "taking action 2 (right)\n",
      "new observation code: [-4.37623932e-01  3.64961329e-04]\n",
      "reward: -1.0\n",
      "is game over?: False\n"
     ]
    }
   ],
   "source": [
    "print(\"taking action 2 (right)\")\n",
    "new_obs, reward, is_done, _ = env.step(2)\n",
    "\n",
    "print(\"new observation code:\", new_obs)\n",
    "print(\"reward:\", reward)\n",
    "print(\"is game over?:\", is_done)\n",
    "\n",
    "# Note: as you can see, the car has moved to the right slightly (around 0.0005)"
   ]
  },
  {
   "cell_type": "markdown",
   "metadata": {},
   "source": [
    "### Play with it\n",
    "\n",
    "Below is the code that drives the car to the right. \n",
    "\n",
    "However, it doesn't reach the flag at the far right due to gravity. \n",
    "\n",
    "__Your task__ is to fix it. Find a strategy that reaches the flag. \n",
    "\n",
    "You're not required to build any sophisticated algorithms for now, feel free to hard-code :)\n",
    "\n",
    "_Hint: your action at each step should depend either on __t__ or on __s__._"
   ]
  },
  {
   "cell_type": "code",
   "execution_count": 10,
   "metadata": {},
   "outputs": [
    {
     "name": "stderr",
     "output_type": "stream",
     "text": [
      "/usr/local/lib/python3.5/dist-packages/gym/logger.py:30: UserWarning: \u001b[33mWARN: Trying to monitor an environment which has no 'spec' set. This usually means you did not create it via 'gym.make', and is recommended only for advanced users.\u001b[0m\n",
      "  warnings.warn(colorize('%s: %s'%('WARN', msg % args), 'yellow'))\n"
     ]
    },
    {
     "name": "stdout",
     "output_type": "stream",
     "text": [
      "Well done!\n",
      "-121.0\n"
     ]
    }
   ],
   "source": [
    "\n",
    "# create env manually to set time limit. Please don't change this.\n",
    "TIME_LIMIT = 250\n",
    "env = gym.wrappers.TimeLimit(gym.envs.classic_control.MountainCarEnv(),\n",
    "                             max_episode_steps=TIME_LIMIT + 1)\n",
    "env = gym.wrappers.Monitor(env, \"./gym-results\", force=True)\n",
    "pos, vel = env.reset()\n",
    "actions = {'left': 0, 'stop': 1, 'right': 2}\n",
    "\n",
    "# prepare \"display\"\n",
    "%matplotlib inline\n",
    "from IPython.display import clear_output\n",
    "\n",
    "from tqdm import tqdm_notebook as tqdm\n",
    "\n",
    "sum_r = 0\n",
    "for t in range(TIME_LIMIT):\n",
    "    \n",
    "\n",
    "    # change the line below to reach the flag\n",
    "    \n",
    "    if vel >= 0:\n",
    "        action = actions['right']\n",
    "    else:\n",
    "        action = actions['left']\n",
    "\n",
    "    \n",
    "    (pos, vel), r, done, _ = env.step(action)\n",
    "    sum_r += r\n",
    "    if done:\n",
    "        print(\"Well done!\")\n",
    "        print(sum_r)\n",
    "        break\n",
    "else:\n",
    "    print(\"Time limit exceeded. Try again.\");\n",
    "env.close()"
   ]
  },
  {
   "cell_type": "code",
   "execution_count": 11,
   "metadata": {},
   "outputs": [
    {
     "data": {
      "text/html": [
       "\n",
       "    <video width=\"360\" height=\"auto\" alt=\"test\" controls><source src=\"data:video/mp4;base64,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\" type=\"video/mp4\" /></video>"
      ],
      "text/plain": [
       "<IPython.core.display.HTML object>"
      ]
     },
     "execution_count": 11,
     "metadata": {},
     "output_type": "execute_result"
    }
   ],
   "source": [
    "import io\n",
    "import base64\n",
    "from IPython.display import HTML\n",
    "\n",
    "video = io.open('./gym-results/openaigym.video.%s.video000000.mp4' % env.file_infix, 'r+b').read()\n",
    "encoded = base64.b64encode(video)\n",
    "HTML(data='''\n",
    "    <video width=\"360\" height=\"auto\" alt=\"test\" controls><source src=\"data:video/mp4;base64,{0}\" type=\"video/mp4\" /></video>'''\n",
    ".format(encoded.decode('ascii')))"
   ]
  },
  {
   "cell_type": "code",
   "execution_count": 22,
   "metadata": {},
   "outputs": [
    {
     "name": "stdout",
     "output_type": "stream",
     "text": [
      "You solved it!\n"
     ]
    }
   ],
   "source": [
    "assert pos > 0.47\n",
    "print(\"You solved it!\")"
   ]
  },
  {
   "cell_type": "code",
   "execution_count": null,
   "metadata": {
    "collapsed": true
   },
   "outputs": [],
   "source": []
  }
 ],
 "metadata": {
  "kernelspec": {
   "display_name": "Python 3",
   "language": "python",
   "name": "python3"
  },
  "language_info": {
   "codemirror_mode": {
    "name": "ipython",
    "version": 3
   },
   "file_extension": ".py",
   "mimetype": "text/x-python",
   "name": "python",
   "nbconvert_exporter": "python",
   "pygments_lexer": "ipython3",
   "version": "3.5.2"
  }
 },
 "nbformat": 4,
 "nbformat_minor": 1
}
